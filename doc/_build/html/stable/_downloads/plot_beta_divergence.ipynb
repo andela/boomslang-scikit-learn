{
  "nbformat_minor": 0, 
  "nbformat": 4, 
  "cells": [
    {
      "execution_count": null, 
      "cell_type": "code", 
      "source": [
        "%matplotlib inline"
      ], 
      "outputs": [], 
      "metadata": {
        "collapsed": false
      }
    }, 
    {
      "source": [
        "\n# Beta-divergence loss functions\n\n\nA plot that compares the various Beta-divergence loss functions supported by\nthe Multiplicative-Update ('mu') solver in :class:`sklearn.decomposition.NMF`.\n\n"
      ], 
      "cell_type": "markdown", 
      "metadata": {}
    }, 
    {
      "execution_count": null, 
      "cell_type": "code", 
      "source": [
        "import numpy as np\nimport matplotlib.pyplot as plt\nfrom sklearn.decomposition.nmf import _beta_divergence\n\nprint(__doc__)\n\nx = np.linspace(0.001, 4, 1000)\ny = np.zeros(x.shape)\n\ncolors = 'mbgyr'\nfor j, beta in enumerate((0., 0.5, 1., 1.5, 2.)):\n    for i, xi in enumerate(x):\n        y[i] = _beta_divergence(1, xi, 1, beta)\n    name = \"beta = %1.1f\" % beta\n    plt.plot(x, y, label=name, color=colors[j])\n\nplt.xlabel(\"x\")\nplt.title(\"beta-divergence(1, x)\")\nplt.legend(loc=0)\nplt.axis([0, 4, 0, 3])\nplt.show()"
      ], 
      "outputs": [], 
      "metadata": {
        "collapsed": false
      }
    }
  ], 
  "metadata": {
    "kernelspec": {
      "display_name": "Python 2", 
      "name": "python2", 
      "language": "python"
    }, 
    "language_info": {
      "mimetype": "text/x-python", 
      "nbconvert_exporter": "python", 
      "name": "python", 
      "file_extension": ".py", 
      "version": "2.7.13", 
      "pygments_lexer": "ipython2", 
      "codemirror_mode": {
        "version": 2, 
        "name": "ipython"
      }
    }
  }
}