{
  "nbformat_minor": 0, 
  "nbformat": 4, 
  "cells": [
    {
      "execution_count": null, 
      "cell_type": "code", 
      "source": [
        "%matplotlib inline"
      ], 
      "outputs": [], 
      "metadata": {
        "collapsed": false
      }
    }, 
    {
      "source": [
        "\n=================================================\nAnomaly detection with Local Outlier Factor (LOF)\n=================================================\n\nThis example presents the Local Outlier Factor (LOF) estimator. The LOF\nalgorithm is an unsupervised outlier detection method which computes the local\ndensity deviation of a given data point with respect to its neighbors.\nIt considers as outlier samples that have a substantially lower density than\ntheir neighbors.\n\nThe number of neighbors considered, (parameter n_neighbors) is typically\nchosen 1) greater than the minimum number of objects a cluster has to contain,\nso that other objects can be local outliers relative to this cluster, and 2)\nsmaller than the maximum number of close by objects that can potentially be\nlocal outliers.\nIn practice, such informations are generally not available, and taking\nn_neighbors=20 appears to work well in general.\n\n"
      ], 
      "cell_type": "markdown", 
      "metadata": {}
    }, 
    {
      "execution_count": null, 
      "cell_type": "code", 
      "source": [
        "import numpy as np\nimport matplotlib.pyplot as plt\nfrom sklearn.neighbors import LocalOutlierFactor\nprint(__doc__)\n\nnp.random.seed(42)\n\n# Generate train data\nX = 0.3 * np.random.randn(100, 2)\n# Generate some abnormal novel observations\nX_outliers = np.random.uniform(low=-4, high=4, size=(20, 2))\nX = np.r_[X + 2, X - 2, X_outliers]\n\n# fit the model\nclf = LocalOutlierFactor(n_neighbors=20)\ny_pred = clf.fit_predict(X)\ny_pred_outliers = y_pred[200:]\n\n# plot the level sets of the decision function\nxx, yy = np.meshgrid(np.linspace(-5, 5, 50), np.linspace(-5, 5, 50))\nZ = clf._decision_function(np.c_[xx.ravel(), yy.ravel()])\nZ = Z.reshape(xx.shape)\n\nplt.title(\"Local Outlier Factor (LOF)\")\nplt.contourf(xx, yy, Z, cmap=plt.cm.Blues_r)\n\na = plt.scatter(X[:200, 0], X[:200, 1], c='white')\nb = plt.scatter(X[200:, 0], X[200:, 1], c='red')\nplt.axis('tight')\nplt.xlim((-5, 5))\nplt.ylim((-5, 5))\nplt.legend([a, b],\n           [\"normal observations\",\n            \"abnormal observations\"],\n           loc=\"upper left\")\nplt.show()"
      ], 
      "outputs": [], 
      "metadata": {
        "collapsed": false
      }
    }
  ], 
  "metadata": {
    "kernelspec": {
      "display_name": "Python 2", 
      "name": "python2", 
      "language": "python"
    }, 
    "language_info": {
      "mimetype": "text/x-python", 
      "nbconvert_exporter": "python", 
      "name": "python", 
      "file_extension": ".py", 
      "version": "2.7.13", 
      "pygments_lexer": "ipython2", 
      "codemirror_mode": {
        "version": 2, 
        "name": "ipython"
      }
    }
  }
}